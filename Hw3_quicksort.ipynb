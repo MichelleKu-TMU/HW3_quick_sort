{
  "nbformat": 4,
  "nbformat_minor": 0,
  "metadata": {
    "colab": {
      "provenance": []
    },
    "kernelspec": {
      "name": "python3",
      "display_name": "Python 3"
    },
    "language_info": {
      "name": "python"
    }
  },
  "cells": [
    {
      "cell_type": "code",
      "execution_count": 7,
      "metadata": {
        "colab": {
          "base_uri": "https://localhost:8080/"
        },
        "id": "QpD3T0IrnJvQ",
        "outputId": "c1717292-6202-49c5-fb03-b6bfb73052db"
      },
      "outputs": [
        {
          "output_type": "stream",
          "name": "stdout",
          "text": [
            "排序結果: [3, 8, 13, 25, 33, 41, 54, 67, 84, 119]\n"
          ]
        }
      ],
      "source": [
        "def quick_sort(array, start, end):\n",
        "    if start >= end:\n",
        "        return\n",
        "\n",
        "    pivot = start  # 根據虛擬碼，pivot 是 array[1]，即固定用第一個位置作為 pivot\n",
        "    left = start\n",
        "    right = end\n",
        "\n",
        "    while left != right:\n",
        "        while left < right and array[right] >= array[pivot]:\n",
        "            right -= 1\n",
        "        while left < right and array[left] <= array[pivot]:\n",
        "            left += 1\n",
        "        if left < right:\n",
        "            array[left], array[right] = array[right], array[left]\n",
        "\n",
        "    # 最後將 pivot 元素與 right 指標所在的元素交換\n",
        "    array[pivot], array[right] = array[right], array[pivot]\n",
        "\n",
        "    # 遞迴對左右子陣列排序\n",
        "    quick_sort(array, start, right - 1)\n",
        "    quick_sort(array, right + 1, end)\n",
        "\n",
        "# 測試資料\n",
        "numbers = [33, 67, 8, 13, 54, 119, 3, 84, 25, 41]\n",
        "quick_sort(numbers, 0, len(numbers) - 1)\n",
        "print(\"排序結果:\", numbers)\n"
      ]
    }
  ]
}